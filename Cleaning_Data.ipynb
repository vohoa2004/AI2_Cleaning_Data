{
  "nbformat": 4,
  "nbformat_minor": 0,
  "metadata": {
    "colab": {
      "provenance": []
    },
    "kernelspec": {
      "name": "python3",
      "display_name": "Python 3"
    },
    "language_info": {
      "name": "python"
    }
  },
  "cells": [
    {
      "cell_type": "code",
      "execution_count": 1,
      "metadata": {
        "id": "Ewcqx052CXSV"
      },
      "outputs": [],
      "source": [
        "import pandas as pd\n",
        "import numpy as np"
      ]
    },
    {
      "cell_type": "code",
      "source": [
        "df = pd.read_csv('data.csv')"
      ],
      "metadata": {
        "id": "7ZisQzDEGSKP"
      },
      "execution_count": 48,
      "outputs": []
    },
    {
      "cell_type": "code",
      "source": [
        "df"
      ],
      "metadata": {
        "colab": {
          "base_uri": "https://localhost:8080/",
          "height": 495
        },
        "id": "_laIU-1eGVgq",
        "outputId": "fd16ee4a-484e-469b-d561-bf9bc2977c30"
      },
      "execution_count": 49,
      "outputs": [
        {
          "output_type": "execute_result",
          "data": {
            "text/plain": [
              "          Country  Year      Status  Life expectancy   Adult Mortality  \\\n",
              "0     Afghanistan  2015  Developing              65.0            263.0   \n",
              "1     Afghanistan  2014  Developing              59.9            271.0   \n",
              "2     Afghanistan  2013  Developing              59.9            268.0   \n",
              "3     Afghanistan  2012  Developing              59.5            272.0   \n",
              "4     Afghanistan  2011  Developing              59.2            275.0   \n",
              "...           ...   ...         ...               ...              ...   \n",
              "2933     Zimbabwe  2004  Developing              44.3            723.0   \n",
              "2934     Zimbabwe  2003  Developing              44.5            715.0   \n",
              "2935     Zimbabwe  2002  Developing              44.8             73.0   \n",
              "2936     Zimbabwe  2001  Developing              45.3            686.0   \n",
              "2937     Zimbabwe  2000  Developing              46.0            665.0   \n",
              "\n",
              "      infant deaths  Alcohol  percentage expenditure  Hepatitis B  Measles   \\\n",
              "0                62     0.01               71.279624         65.0      1154   \n",
              "1                64     0.01               73.523582         62.0       492   \n",
              "2                66     0.01               73.219243         64.0       430   \n",
              "3                69     0.01               78.184215         67.0      2787   \n",
              "4                71     0.01                7.097109         68.0      3013   \n",
              "...             ...      ...                     ...          ...       ...   \n",
              "2933             27     4.36                0.000000         68.0        31   \n",
              "2934             26     4.06                0.000000          7.0       998   \n",
              "2935             25     4.43                0.000000         73.0       304   \n",
              "2936             25     1.72                0.000000         76.0       529   \n",
              "2937             24     1.68                0.000000         79.0      1483   \n",
              "\n",
              "      ...  Polio  Total expenditure  Diphtheria    HIV/AIDS         GDP  \\\n",
              "0     ...    6.0               8.16         65.0        0.1  584.259210   \n",
              "1     ...   58.0               8.18         62.0        0.1  612.696514   \n",
              "2     ...   62.0               8.13         64.0        0.1  631.744976   \n",
              "3     ...   67.0               8.52         67.0        0.1  669.959000   \n",
              "4     ...   68.0               7.87         68.0        0.1   63.537231   \n",
              "...   ...    ...                ...          ...        ...         ...   \n",
              "2933  ...   67.0               7.13         65.0       33.6  454.366654   \n",
              "2934  ...    7.0               6.52         68.0       36.7  453.351155   \n",
              "2935  ...   73.0               6.53         71.0       39.8   57.348340   \n",
              "2936  ...   76.0               6.16         75.0       42.1  548.587312   \n",
              "2937  ...   78.0               7.10         78.0       43.5  547.358878   \n",
              "\n",
              "      Population   thinness  1-19 years   thinness 5-9 years  \\\n",
              "0     33736494.0                   17.2                 17.3   \n",
              "1       327582.0                   17.5                 17.5   \n",
              "2     31731688.0                   17.7                 17.7   \n",
              "3      3696958.0                   17.9                 18.0   \n",
              "4      2978599.0                   18.2                 18.2   \n",
              "...          ...                    ...                  ...   \n",
              "2933  12777511.0                    9.4                  9.4   \n",
              "2934  12633897.0                    9.8                  9.9   \n",
              "2935    125525.0                    1.2                  1.3   \n",
              "2936  12366165.0                    1.6                  1.7   \n",
              "2937  12222251.0                   11.0                 11.2   \n",
              "\n",
              "      Income composition of resources  Schooling  \n",
              "0                               0.479       10.1  \n",
              "1                               0.476       10.0  \n",
              "2                               0.470        9.9  \n",
              "3                               0.463        9.8  \n",
              "4                               0.454        9.5  \n",
              "...                               ...        ...  \n",
              "2933                            0.407        9.2  \n",
              "2934                            0.418        9.5  \n",
              "2935                            0.427       10.0  \n",
              "2936                            0.427        9.8  \n",
              "2937                            0.434        9.8  \n",
              "\n",
              "[2938 rows x 22 columns]"
            ],
            "text/html": [
              "\n",
              "  <div id=\"df-a77e7584-74ef-40d9-ac7b-1b20899faac4\" class=\"colab-df-container\">\n",
              "    <div>\n",
              "<style scoped>\n",
              "    .dataframe tbody tr th:only-of-type {\n",
              "        vertical-align: middle;\n",
              "    }\n",
              "\n",
              "    .dataframe tbody tr th {\n",
              "        vertical-align: top;\n",
              "    }\n",
              "\n",
              "    .dataframe thead th {\n",
              "        text-align: right;\n",
              "    }\n",
              "</style>\n",
              "<table border=\"1\" class=\"dataframe\">\n",
              "  <thead>\n",
              "    <tr style=\"text-align: right;\">\n",
              "      <th></th>\n",
              "      <th>Country</th>\n",
              "      <th>Year</th>\n",
              "      <th>Status</th>\n",
              "      <th>Life expectancy</th>\n",
              "      <th>Adult Mortality</th>\n",
              "      <th>infant deaths</th>\n",
              "      <th>Alcohol</th>\n",
              "      <th>percentage expenditure</th>\n",
              "      <th>Hepatitis B</th>\n",
              "      <th>Measles</th>\n",
              "      <th>...</th>\n",
              "      <th>Polio</th>\n",
              "      <th>Total expenditure</th>\n",
              "      <th>Diphtheria</th>\n",
              "      <th>HIV/AIDS</th>\n",
              "      <th>GDP</th>\n",
              "      <th>Population</th>\n",
              "      <th>thinness  1-19 years</th>\n",
              "      <th>thinness 5-9 years</th>\n",
              "      <th>Income composition of resources</th>\n",
              "      <th>Schooling</th>\n",
              "    </tr>\n",
              "  </thead>\n",
              "  <tbody>\n",
              "    <tr>\n",
              "      <th>0</th>\n",
              "      <td>Afghanistan</td>\n",
              "      <td>2015</td>\n",
              "      <td>Developing</td>\n",
              "      <td>65.0</td>\n",
              "      <td>263.0</td>\n",
              "      <td>62</td>\n",
              "      <td>0.01</td>\n",
              "      <td>71.279624</td>\n",
              "      <td>65.0</td>\n",
              "      <td>1154</td>\n",
              "      <td>...</td>\n",
              "      <td>6.0</td>\n",
              "      <td>8.16</td>\n",
              "      <td>65.0</td>\n",
              "      <td>0.1</td>\n",
              "      <td>584.259210</td>\n",
              "      <td>33736494.0</td>\n",
              "      <td>17.2</td>\n",
              "      <td>17.3</td>\n",
              "      <td>0.479</td>\n",
              "      <td>10.1</td>\n",
              "    </tr>\n",
              "    <tr>\n",
              "      <th>1</th>\n",
              "      <td>Afghanistan</td>\n",
              "      <td>2014</td>\n",
              "      <td>Developing</td>\n",
              "      <td>59.9</td>\n",
              "      <td>271.0</td>\n",
              "      <td>64</td>\n",
              "      <td>0.01</td>\n",
              "      <td>73.523582</td>\n",
              "      <td>62.0</td>\n",
              "      <td>492</td>\n",
              "      <td>...</td>\n",
              "      <td>58.0</td>\n",
              "      <td>8.18</td>\n",
              "      <td>62.0</td>\n",
              "      <td>0.1</td>\n",
              "      <td>612.696514</td>\n",
              "      <td>327582.0</td>\n",
              "      <td>17.5</td>\n",
              "      <td>17.5</td>\n",
              "      <td>0.476</td>\n",
              "      <td>10.0</td>\n",
              "    </tr>\n",
              "    <tr>\n",
              "      <th>2</th>\n",
              "      <td>Afghanistan</td>\n",
              "      <td>2013</td>\n",
              "      <td>Developing</td>\n",
              "      <td>59.9</td>\n",
              "      <td>268.0</td>\n",
              "      <td>66</td>\n",
              "      <td>0.01</td>\n",
              "      <td>73.219243</td>\n",
              "      <td>64.0</td>\n",
              "      <td>430</td>\n",
              "      <td>...</td>\n",
              "      <td>62.0</td>\n",
              "      <td>8.13</td>\n",
              "      <td>64.0</td>\n",
              "      <td>0.1</td>\n",
              "      <td>631.744976</td>\n",
              "      <td>31731688.0</td>\n",
              "      <td>17.7</td>\n",
              "      <td>17.7</td>\n",
              "      <td>0.470</td>\n",
              "      <td>9.9</td>\n",
              "    </tr>\n",
              "    <tr>\n",
              "      <th>3</th>\n",
              "      <td>Afghanistan</td>\n",
              "      <td>2012</td>\n",
              "      <td>Developing</td>\n",
              "      <td>59.5</td>\n",
              "      <td>272.0</td>\n",
              "      <td>69</td>\n",
              "      <td>0.01</td>\n",
              "      <td>78.184215</td>\n",
              "      <td>67.0</td>\n",
              "      <td>2787</td>\n",
              "      <td>...</td>\n",
              "      <td>67.0</td>\n",
              "      <td>8.52</td>\n",
              "      <td>67.0</td>\n",
              "      <td>0.1</td>\n",
              "      <td>669.959000</td>\n",
              "      <td>3696958.0</td>\n",
              "      <td>17.9</td>\n",
              "      <td>18.0</td>\n",
              "      <td>0.463</td>\n",
              "      <td>9.8</td>\n",
              "    </tr>\n",
              "    <tr>\n",
              "      <th>4</th>\n",
              "      <td>Afghanistan</td>\n",
              "      <td>2011</td>\n",
              "      <td>Developing</td>\n",
              "      <td>59.2</td>\n",
              "      <td>275.0</td>\n",
              "      <td>71</td>\n",
              "      <td>0.01</td>\n",
              "      <td>7.097109</td>\n",
              "      <td>68.0</td>\n",
              "      <td>3013</td>\n",
              "      <td>...</td>\n",
              "      <td>68.0</td>\n",
              "      <td>7.87</td>\n",
              "      <td>68.0</td>\n",
              "      <td>0.1</td>\n",
              "      <td>63.537231</td>\n",
              "      <td>2978599.0</td>\n",
              "      <td>18.2</td>\n",
              "      <td>18.2</td>\n",
              "      <td>0.454</td>\n",
              "      <td>9.5</td>\n",
              "    </tr>\n",
              "    <tr>\n",
              "      <th>...</th>\n",
              "      <td>...</td>\n",
              "      <td>...</td>\n",
              "      <td>...</td>\n",
              "      <td>...</td>\n",
              "      <td>...</td>\n",
              "      <td>...</td>\n",
              "      <td>...</td>\n",
              "      <td>...</td>\n",
              "      <td>...</td>\n",
              "      <td>...</td>\n",
              "      <td>...</td>\n",
              "      <td>...</td>\n",
              "      <td>...</td>\n",
              "      <td>...</td>\n",
              "      <td>...</td>\n",
              "      <td>...</td>\n",
              "      <td>...</td>\n",
              "      <td>...</td>\n",
              "      <td>...</td>\n",
              "      <td>...</td>\n",
              "      <td>...</td>\n",
              "    </tr>\n",
              "    <tr>\n",
              "      <th>2933</th>\n",
              "      <td>Zimbabwe</td>\n",
              "      <td>2004</td>\n",
              "      <td>Developing</td>\n",
              "      <td>44.3</td>\n",
              "      <td>723.0</td>\n",
              "      <td>27</td>\n",
              "      <td>4.36</td>\n",
              "      <td>0.000000</td>\n",
              "      <td>68.0</td>\n",
              "      <td>31</td>\n",
              "      <td>...</td>\n",
              "      <td>67.0</td>\n",
              "      <td>7.13</td>\n",
              "      <td>65.0</td>\n",
              "      <td>33.6</td>\n",
              "      <td>454.366654</td>\n",
              "      <td>12777511.0</td>\n",
              "      <td>9.4</td>\n",
              "      <td>9.4</td>\n",
              "      <td>0.407</td>\n",
              "      <td>9.2</td>\n",
              "    </tr>\n",
              "    <tr>\n",
              "      <th>2934</th>\n",
              "      <td>Zimbabwe</td>\n",
              "      <td>2003</td>\n",
              "      <td>Developing</td>\n",
              "      <td>44.5</td>\n",
              "      <td>715.0</td>\n",
              "      <td>26</td>\n",
              "      <td>4.06</td>\n",
              "      <td>0.000000</td>\n",
              "      <td>7.0</td>\n",
              "      <td>998</td>\n",
              "      <td>...</td>\n",
              "      <td>7.0</td>\n",
              "      <td>6.52</td>\n",
              "      <td>68.0</td>\n",
              "      <td>36.7</td>\n",
              "      <td>453.351155</td>\n",
              "      <td>12633897.0</td>\n",
              "      <td>9.8</td>\n",
              "      <td>9.9</td>\n",
              "      <td>0.418</td>\n",
              "      <td>9.5</td>\n",
              "    </tr>\n",
              "    <tr>\n",
              "      <th>2935</th>\n",
              "      <td>Zimbabwe</td>\n",
              "      <td>2002</td>\n",
              "      <td>Developing</td>\n",
              "      <td>44.8</td>\n",
              "      <td>73.0</td>\n",
              "      <td>25</td>\n",
              "      <td>4.43</td>\n",
              "      <td>0.000000</td>\n",
              "      <td>73.0</td>\n",
              "      <td>304</td>\n",
              "      <td>...</td>\n",
              "      <td>73.0</td>\n",
              "      <td>6.53</td>\n",
              "      <td>71.0</td>\n",
              "      <td>39.8</td>\n",
              "      <td>57.348340</td>\n",
              "      <td>125525.0</td>\n",
              "      <td>1.2</td>\n",
              "      <td>1.3</td>\n",
              "      <td>0.427</td>\n",
              "      <td>10.0</td>\n",
              "    </tr>\n",
              "    <tr>\n",
              "      <th>2936</th>\n",
              "      <td>Zimbabwe</td>\n",
              "      <td>2001</td>\n",
              "      <td>Developing</td>\n",
              "      <td>45.3</td>\n",
              "      <td>686.0</td>\n",
              "      <td>25</td>\n",
              "      <td>1.72</td>\n",
              "      <td>0.000000</td>\n",
              "      <td>76.0</td>\n",
              "      <td>529</td>\n",
              "      <td>...</td>\n",
              "      <td>76.0</td>\n",
              "      <td>6.16</td>\n",
              "      <td>75.0</td>\n",
              "      <td>42.1</td>\n",
              "      <td>548.587312</td>\n",
              "      <td>12366165.0</td>\n",
              "      <td>1.6</td>\n",
              "      <td>1.7</td>\n",
              "      <td>0.427</td>\n",
              "      <td>9.8</td>\n",
              "    </tr>\n",
              "    <tr>\n",
              "      <th>2937</th>\n",
              "      <td>Zimbabwe</td>\n",
              "      <td>2000</td>\n",
              "      <td>Developing</td>\n",
              "      <td>46.0</td>\n",
              "      <td>665.0</td>\n",
              "      <td>24</td>\n",
              "      <td>1.68</td>\n",
              "      <td>0.000000</td>\n",
              "      <td>79.0</td>\n",
              "      <td>1483</td>\n",
              "      <td>...</td>\n",
              "      <td>78.0</td>\n",
              "      <td>7.10</td>\n",
              "      <td>78.0</td>\n",
              "      <td>43.5</td>\n",
              "      <td>547.358878</td>\n",
              "      <td>12222251.0</td>\n",
              "      <td>11.0</td>\n",
              "      <td>11.2</td>\n",
              "      <td>0.434</td>\n",
              "      <td>9.8</td>\n",
              "    </tr>\n",
              "  </tbody>\n",
              "</table>\n",
              "<p>2938 rows × 22 columns</p>\n",
              "</div>\n",
              "    <div class=\"colab-df-buttons\">\n",
              "\n",
              "  <div class=\"colab-df-container\">\n",
              "    <button class=\"colab-df-convert\" onclick=\"convertToInteractive('df-a77e7584-74ef-40d9-ac7b-1b20899faac4')\"\n",
              "            title=\"Convert this dataframe to an interactive table.\"\n",
              "            style=\"display:none;\">\n",
              "\n",
              "  <svg xmlns=\"http://www.w3.org/2000/svg\" height=\"24px\" viewBox=\"0 -960 960 960\">\n",
              "    <path d=\"M120-120v-720h720v720H120Zm60-500h600v-160H180v160Zm220 220h160v-160H400v160Zm0 220h160v-160H400v160ZM180-400h160v-160H180v160Zm440 0h160v-160H620v160ZM180-180h160v-160H180v160Zm440 0h160v-160H620v160Z\"/>\n",
              "  </svg>\n",
              "    </button>\n",
              "\n",
              "  <style>\n",
              "    .colab-df-container {\n",
              "      display:flex;\n",
              "      gap: 12px;\n",
              "    }\n",
              "\n",
              "    .colab-df-convert {\n",
              "      background-color: #E8F0FE;\n",
              "      border: none;\n",
              "      border-radius: 50%;\n",
              "      cursor: pointer;\n",
              "      display: none;\n",
              "      fill: #1967D2;\n",
              "      height: 32px;\n",
              "      padding: 0 0 0 0;\n",
              "      width: 32px;\n",
              "    }\n",
              "\n",
              "    .colab-df-convert:hover {\n",
              "      background-color: #E2EBFA;\n",
              "      box-shadow: 0px 1px 2px rgba(60, 64, 67, 0.3), 0px 1px 3px 1px rgba(60, 64, 67, 0.15);\n",
              "      fill: #174EA6;\n",
              "    }\n",
              "\n",
              "    .colab-df-buttons div {\n",
              "      margin-bottom: 4px;\n",
              "    }\n",
              "\n",
              "    [theme=dark] .colab-df-convert {\n",
              "      background-color: #3B4455;\n",
              "      fill: #D2E3FC;\n",
              "    }\n",
              "\n",
              "    [theme=dark] .colab-df-convert:hover {\n",
              "      background-color: #434B5C;\n",
              "      box-shadow: 0px 1px 3px 1px rgba(0, 0, 0, 0.15);\n",
              "      filter: drop-shadow(0px 1px 2px rgba(0, 0, 0, 0.3));\n",
              "      fill: #FFFFFF;\n",
              "    }\n",
              "  </style>\n",
              "\n",
              "    <script>\n",
              "      const buttonEl =\n",
              "        document.querySelector('#df-a77e7584-74ef-40d9-ac7b-1b20899faac4 button.colab-df-convert');\n",
              "      buttonEl.style.display =\n",
              "        google.colab.kernel.accessAllowed ? 'block' : 'none';\n",
              "\n",
              "      async function convertToInteractive(key) {\n",
              "        const element = document.querySelector('#df-a77e7584-74ef-40d9-ac7b-1b20899faac4');\n",
              "        const dataTable =\n",
              "          await google.colab.kernel.invokeFunction('convertToInteractive',\n",
              "                                                    [key], {});\n",
              "        if (!dataTable) return;\n",
              "\n",
              "        const docLinkHtml = 'Like what you see? Visit the ' +\n",
              "          '<a target=\"_blank\" href=https://colab.research.google.com/notebooks/data_table.ipynb>data table notebook</a>'\n",
              "          + ' to learn more about interactive tables.';\n",
              "        element.innerHTML = '';\n",
              "        dataTable['output_type'] = 'display_data';\n",
              "        await google.colab.output.renderOutput(dataTable, element);\n",
              "        const docLink = document.createElement('div');\n",
              "        docLink.innerHTML = docLinkHtml;\n",
              "        element.appendChild(docLink);\n",
              "      }\n",
              "    </script>\n",
              "  </div>\n",
              "\n",
              "\n",
              "<div id=\"df-cc16c026-4034-4b06-86e4-510638a35d27\">\n",
              "  <button class=\"colab-df-quickchart\" onclick=\"quickchart('df-cc16c026-4034-4b06-86e4-510638a35d27')\"\n",
              "            title=\"Suggest charts\"\n",
              "            style=\"display:none;\">\n",
              "\n",
              "<svg xmlns=\"http://www.w3.org/2000/svg\" height=\"24px\"viewBox=\"0 0 24 24\"\n",
              "     width=\"24px\">\n",
              "    <g>\n",
              "        <path d=\"M19 3H5c-1.1 0-2 .9-2 2v14c0 1.1.9 2 2 2h14c1.1 0 2-.9 2-2V5c0-1.1-.9-2-2-2zM9 17H7v-7h2v7zm4 0h-2V7h2v10zm4 0h-2v-4h2v4z\"/>\n",
              "    </g>\n",
              "</svg>\n",
              "  </button>\n",
              "\n",
              "<style>\n",
              "  .colab-df-quickchart {\n",
              "      --bg-color: #E8F0FE;\n",
              "      --fill-color: #1967D2;\n",
              "      --hover-bg-color: #E2EBFA;\n",
              "      --hover-fill-color: #174EA6;\n",
              "      --disabled-fill-color: #AAA;\n",
              "      --disabled-bg-color: #DDD;\n",
              "  }\n",
              "\n",
              "  [theme=dark] .colab-df-quickchart {\n",
              "      --bg-color: #3B4455;\n",
              "      --fill-color: #D2E3FC;\n",
              "      --hover-bg-color: #434B5C;\n",
              "      --hover-fill-color: #FFFFFF;\n",
              "      --disabled-bg-color: #3B4455;\n",
              "      --disabled-fill-color: #666;\n",
              "  }\n",
              "\n",
              "  .colab-df-quickchart {\n",
              "    background-color: var(--bg-color);\n",
              "    border: none;\n",
              "    border-radius: 50%;\n",
              "    cursor: pointer;\n",
              "    display: none;\n",
              "    fill: var(--fill-color);\n",
              "    height: 32px;\n",
              "    padding: 0;\n",
              "    width: 32px;\n",
              "  }\n",
              "\n",
              "  .colab-df-quickchart:hover {\n",
              "    background-color: var(--hover-bg-color);\n",
              "    box-shadow: 0 1px 2px rgba(60, 64, 67, 0.3), 0 1px 3px 1px rgba(60, 64, 67, 0.15);\n",
              "    fill: var(--button-hover-fill-color);\n",
              "  }\n",
              "\n",
              "  .colab-df-quickchart-complete:disabled,\n",
              "  .colab-df-quickchart-complete:disabled:hover {\n",
              "    background-color: var(--disabled-bg-color);\n",
              "    fill: var(--disabled-fill-color);\n",
              "    box-shadow: none;\n",
              "  }\n",
              "\n",
              "  .colab-df-spinner {\n",
              "    border: 2px solid var(--fill-color);\n",
              "    border-color: transparent;\n",
              "    border-bottom-color: var(--fill-color);\n",
              "    animation:\n",
              "      spin 1s steps(1) infinite;\n",
              "  }\n",
              "\n",
              "  @keyframes spin {\n",
              "    0% {\n",
              "      border-color: transparent;\n",
              "      border-bottom-color: var(--fill-color);\n",
              "      border-left-color: var(--fill-color);\n",
              "    }\n",
              "    20% {\n",
              "      border-color: transparent;\n",
              "      border-left-color: var(--fill-color);\n",
              "      border-top-color: var(--fill-color);\n",
              "    }\n",
              "    30% {\n",
              "      border-color: transparent;\n",
              "      border-left-color: var(--fill-color);\n",
              "      border-top-color: var(--fill-color);\n",
              "      border-right-color: var(--fill-color);\n",
              "    }\n",
              "    40% {\n",
              "      border-color: transparent;\n",
              "      border-right-color: var(--fill-color);\n",
              "      border-top-color: var(--fill-color);\n",
              "    }\n",
              "    60% {\n",
              "      border-color: transparent;\n",
              "      border-right-color: var(--fill-color);\n",
              "    }\n",
              "    80% {\n",
              "      border-color: transparent;\n",
              "      border-right-color: var(--fill-color);\n",
              "      border-bottom-color: var(--fill-color);\n",
              "    }\n",
              "    90% {\n",
              "      border-color: transparent;\n",
              "      border-bottom-color: var(--fill-color);\n",
              "    }\n",
              "  }\n",
              "</style>\n",
              "\n",
              "  <script>\n",
              "    async function quickchart(key) {\n",
              "      const quickchartButtonEl =\n",
              "        document.querySelector('#' + key + ' button');\n",
              "      quickchartButtonEl.disabled = true;  // To prevent multiple clicks.\n",
              "      quickchartButtonEl.classList.add('colab-df-spinner');\n",
              "      try {\n",
              "        const charts = await google.colab.kernel.invokeFunction(\n",
              "            'suggestCharts', [key], {});\n",
              "      } catch (error) {\n",
              "        console.error('Error during call to suggestCharts:', error);\n",
              "      }\n",
              "      quickchartButtonEl.classList.remove('colab-df-spinner');\n",
              "      quickchartButtonEl.classList.add('colab-df-quickchart-complete');\n",
              "    }\n",
              "    (() => {\n",
              "      let quickchartButtonEl =\n",
              "        document.querySelector('#df-cc16c026-4034-4b06-86e4-510638a35d27 button');\n",
              "      quickchartButtonEl.style.display =\n",
              "        google.colab.kernel.accessAllowed ? 'block' : 'none';\n",
              "    })();\n",
              "  </script>\n",
              "</div>\n",
              "\n",
              "  <div id=\"id_620bbcd5-95b3-4b66-90b4-d6b49d478bef\">\n",
              "    <style>\n",
              "      .colab-df-generate {\n",
              "        background-color: #E8F0FE;\n",
              "        border: none;\n",
              "        border-radius: 50%;\n",
              "        cursor: pointer;\n",
              "        display: none;\n",
              "        fill: #1967D2;\n",
              "        height: 32px;\n",
              "        padding: 0 0 0 0;\n",
              "        width: 32px;\n",
              "      }\n",
              "\n",
              "      .colab-df-generate:hover {\n",
              "        background-color: #E2EBFA;\n",
              "        box-shadow: 0px 1px 2px rgba(60, 64, 67, 0.3), 0px 1px 3px 1px rgba(60, 64, 67, 0.15);\n",
              "        fill: #174EA6;\n",
              "      }\n",
              "\n",
              "      [theme=dark] .colab-df-generate {\n",
              "        background-color: #3B4455;\n",
              "        fill: #D2E3FC;\n",
              "      }\n",
              "\n",
              "      [theme=dark] .colab-df-generate:hover {\n",
              "        background-color: #434B5C;\n",
              "        box-shadow: 0px 1px 3px 1px rgba(0, 0, 0, 0.15);\n",
              "        filter: drop-shadow(0px 1px 2px rgba(0, 0, 0, 0.3));\n",
              "        fill: #FFFFFF;\n",
              "      }\n",
              "    </style>\n",
              "    <button class=\"colab-df-generate\" onclick=\"generateWithVariable('df')\"\n",
              "            title=\"Generate code using this dataframe.\"\n",
              "            style=\"display:none;\">\n",
              "\n",
              "  <svg xmlns=\"http://www.w3.org/2000/svg\" height=\"24px\"viewBox=\"0 0 24 24\"\n",
              "       width=\"24px\">\n",
              "    <path d=\"M7,19H8.4L18.45,9,17,7.55,7,17.6ZM5,21V16.75L18.45,3.32a2,2,0,0,1,2.83,0l1.4,1.43a1.91,1.91,0,0,1,.58,1.4,1.91,1.91,0,0,1-.58,1.4L9.25,21ZM18.45,9,17,7.55Zm-12,3A5.31,5.31,0,0,0,4.9,8.1,5.31,5.31,0,0,0,1,6.5,5.31,5.31,0,0,0,4.9,4.9,5.31,5.31,0,0,0,6.5,1,5.31,5.31,0,0,0,8.1,4.9,5.31,5.31,0,0,0,12,6.5,5.46,5.46,0,0,0,6.5,12Z\"/>\n",
              "  </svg>\n",
              "    </button>\n",
              "    <script>\n",
              "      (() => {\n",
              "      const buttonEl =\n",
              "        document.querySelector('#id_620bbcd5-95b3-4b66-90b4-d6b49d478bef button.colab-df-generate');\n",
              "      buttonEl.style.display =\n",
              "        google.colab.kernel.accessAllowed ? 'block' : 'none';\n",
              "\n",
              "      buttonEl.onclick = () => {\n",
              "        google.colab.notebook.generateWithVariable('df');\n",
              "      }\n",
              "      })();\n",
              "    </script>\n",
              "  </div>\n",
              "\n",
              "    </div>\n",
              "  </div>\n"
            ],
            "application/vnd.google.colaboratory.intrinsic+json": {
              "type": "dataframe",
              "variable_name": "df"
            }
          },
          "metadata": {},
          "execution_count": 49
        }
      ]
    },
    {
      "cell_type": "code",
      "source": [
        "df.info()"
      ],
      "metadata": {
        "colab": {
          "base_uri": "https://localhost:8080/"
        },
        "id": "DFQtnMhKGnGY",
        "outputId": "137dd098-5eb1-4462-c9f6-6f3acae502e1"
      },
      "execution_count": 50,
      "outputs": [
        {
          "output_type": "stream",
          "name": "stdout",
          "text": [
            "<class 'pandas.core.frame.DataFrame'>\n",
            "RangeIndex: 2938 entries, 0 to 2937\n",
            "Data columns (total 22 columns):\n",
            " #   Column                           Non-Null Count  Dtype  \n",
            "---  ------                           --------------  -----  \n",
            " 0   Country                          2938 non-null   object \n",
            " 1   Year                             2938 non-null   int64  \n",
            " 2   Status                           2938 non-null   object \n",
            " 3   Life expectancy                  2928 non-null   float64\n",
            " 4   Adult Mortality                  2928 non-null   float64\n",
            " 5   infant deaths                    2938 non-null   int64  \n",
            " 6   Alcohol                          2744 non-null   float64\n",
            " 7   percentage expenditure           2938 non-null   float64\n",
            " 8   Hepatitis B                      2385 non-null   float64\n",
            " 9   Measles                          2938 non-null   int64  \n",
            " 10   BMI                             2904 non-null   float64\n",
            " 11  under-five deaths                2938 non-null   int64  \n",
            " 12  Polio                            2919 non-null   float64\n",
            " 13  Total expenditure                2712 non-null   float64\n",
            " 14  Diphtheria                       2919 non-null   float64\n",
            " 15   HIV/AIDS                        2938 non-null   float64\n",
            " 16  GDP                              2490 non-null   float64\n",
            " 17  Population                       2286 non-null   float64\n",
            " 18   thinness  1-19 years            2904 non-null   float64\n",
            " 19   thinness 5-9 years              2904 non-null   float64\n",
            " 20  Income composition of resources  2771 non-null   float64\n",
            " 21  Schooling                        2775 non-null   float64\n",
            "dtypes: float64(16), int64(4), object(2)\n",
            "memory usage: 505.1+ KB\n"
          ]
        }
      ]
    },
    {
      "cell_type": "code",
      "source": [
        "df.isna().sum() # count each column contains how many NaN"
      ],
      "metadata": {
        "colab": {
          "base_uri": "https://localhost:8080/"
        },
        "id": "vydizVKUGp6k",
        "outputId": "c1ee0497-556a-4846-9c37-e939f5ec1e39"
      },
      "execution_count": 51,
      "outputs": [
        {
          "output_type": "execute_result",
          "data": {
            "text/plain": [
              "Country                              0\n",
              "Year                                 0\n",
              "Status                               0\n",
              "Life expectancy                     10\n",
              "Adult Mortality                     10\n",
              "infant deaths                        0\n",
              "Alcohol                            194\n",
              "percentage expenditure               0\n",
              "Hepatitis B                        553\n",
              "Measles                              0\n",
              " BMI                                34\n",
              "under-five deaths                    0\n",
              "Polio                               19\n",
              "Total expenditure                  226\n",
              "Diphtheria                          19\n",
              " HIV/AIDS                            0\n",
              "GDP                                448\n",
              "Population                         652\n",
              " thinness  1-19 years               34\n",
              " thinness 5-9 years                 34\n",
              "Income composition of resources    167\n",
              "Schooling                          163\n",
              "dtype: int64"
            ]
          },
          "metadata": {},
          "execution_count": 51
        }
      ]
    },
    {
      "cell_type": "code",
      "source": [
        "missing = df.isna().mean() * 100 # check how many percent of data of each column is NaN\n",
        "missing[missing > 0]"
      ],
      "metadata": {
        "colab": {
          "base_uri": "https://localhost:8080/"
        },
        "id": "oE-WnBHSGw13",
        "outputId": "376d965a-4b18-494b-e458-fdbec4b94ab2"
      },
      "execution_count": 52,
      "outputs": [
        {
          "output_type": "execute_result",
          "data": {
            "text/plain": [
              "Life expectancy                     0.340368\n",
              "Adult Mortality                     0.340368\n",
              "Alcohol                             6.603131\n",
              "Hepatitis B                        18.822328\n",
              " BMI                                1.157250\n",
              "Polio                               0.646698\n",
              "Total expenditure                   7.692308\n",
              "Diphtheria                          0.646698\n",
              "GDP                                15.248468\n",
              "Population                         22.191967\n",
              " thinness  1-19 years               1.157250\n",
              " thinness 5-9 years                 1.157250\n",
              "Income composition of resources     5.684139\n",
              "Schooling                           5.547992\n",
              "dtype: float64"
            ]
          },
          "metadata": {},
          "execution_count": 52
        }
      ]
    },
    {
      "cell_type": "markdown",
      "source": [
        "### A. Handle missing data\n"
      ],
      "metadata": {
        "id": "tZfXu0xQI0xQ"
      }
    },
    {
      "cell_type": "markdown",
      "source": [
        "#### 1. Deletion"
      ],
      "metadata": {
        "id": "EKDregazJHPG"
      }
    },
    {
      "cell_type": "code",
      "source": [
        "# Handle missing values\n",
        "# 1. Delete missing values\n",
        "df2 = df.copy()\n",
        "df2.dropna(inplace = True)\n"
      ],
      "metadata": {
        "id": "KJ7pUjEKHUNB"
      },
      "execution_count": 53,
      "outputs": []
    },
    {
      "cell_type": "code",
      "source": [
        "df2"
      ],
      "metadata": {
        "colab": {
          "base_uri": "https://localhost:8080/",
          "height": 495
        },
        "id": "N8pSwg8THifq",
        "outputId": "3fb50b95-a026-4004-f576-218a018f2e54"
      },
      "execution_count": 54,
      "outputs": [
        {
          "output_type": "execute_result",
          "data": {
            "text/plain": [
              "          Country  Year      Status  Life expectancy   Adult Mortality  \\\n",
              "0     Afghanistan  2015  Developing              65.0            263.0   \n",
              "1     Afghanistan  2014  Developing              59.9            271.0   \n",
              "2     Afghanistan  2013  Developing              59.9            268.0   \n",
              "3     Afghanistan  2012  Developing              59.5            272.0   \n",
              "4     Afghanistan  2011  Developing              59.2            275.0   \n",
              "...           ...   ...         ...               ...              ...   \n",
              "2933     Zimbabwe  2004  Developing              44.3            723.0   \n",
              "2934     Zimbabwe  2003  Developing              44.5            715.0   \n",
              "2935     Zimbabwe  2002  Developing              44.8             73.0   \n",
              "2936     Zimbabwe  2001  Developing              45.3            686.0   \n",
              "2937     Zimbabwe  2000  Developing              46.0            665.0   \n",
              "\n",
              "      infant deaths  Alcohol  percentage expenditure  Hepatitis B  Measles   \\\n",
              "0                62     0.01               71.279624         65.0      1154   \n",
              "1                64     0.01               73.523582         62.0       492   \n",
              "2                66     0.01               73.219243         64.0       430   \n",
              "3                69     0.01               78.184215         67.0      2787   \n",
              "4                71     0.01                7.097109         68.0      3013   \n",
              "...             ...      ...                     ...          ...       ...   \n",
              "2933             27     4.36                0.000000         68.0        31   \n",
              "2934             26     4.06                0.000000          7.0       998   \n",
              "2935             25     4.43                0.000000         73.0       304   \n",
              "2936             25     1.72                0.000000         76.0       529   \n",
              "2937             24     1.68                0.000000         79.0      1483   \n",
              "\n",
              "      ...  Polio  Total expenditure  Diphtheria    HIV/AIDS         GDP  \\\n",
              "0     ...    6.0               8.16         65.0        0.1  584.259210   \n",
              "1     ...   58.0               8.18         62.0        0.1  612.696514   \n",
              "2     ...   62.0               8.13         64.0        0.1  631.744976   \n",
              "3     ...   67.0               8.52         67.0        0.1  669.959000   \n",
              "4     ...   68.0               7.87         68.0        0.1   63.537231   \n",
              "...   ...    ...                ...          ...        ...         ...   \n",
              "2933  ...   67.0               7.13         65.0       33.6  454.366654   \n",
              "2934  ...    7.0               6.52         68.0       36.7  453.351155   \n",
              "2935  ...   73.0               6.53         71.0       39.8   57.348340   \n",
              "2936  ...   76.0               6.16         75.0       42.1  548.587312   \n",
              "2937  ...   78.0               7.10         78.0       43.5  547.358878   \n",
              "\n",
              "      Population   thinness  1-19 years   thinness 5-9 years  \\\n",
              "0     33736494.0                   17.2                 17.3   \n",
              "1       327582.0                   17.5                 17.5   \n",
              "2     31731688.0                   17.7                 17.7   \n",
              "3      3696958.0                   17.9                 18.0   \n",
              "4      2978599.0                   18.2                 18.2   \n",
              "...          ...                    ...                  ...   \n",
              "2933  12777511.0                    9.4                  9.4   \n",
              "2934  12633897.0                    9.8                  9.9   \n",
              "2935    125525.0                    1.2                  1.3   \n",
              "2936  12366165.0                    1.6                  1.7   \n",
              "2937  12222251.0                   11.0                 11.2   \n",
              "\n",
              "      Income composition of resources  Schooling  \n",
              "0                               0.479       10.1  \n",
              "1                               0.476       10.0  \n",
              "2                               0.470        9.9  \n",
              "3                               0.463        9.8  \n",
              "4                               0.454        9.5  \n",
              "...                               ...        ...  \n",
              "2933                            0.407        9.2  \n",
              "2934                            0.418        9.5  \n",
              "2935                            0.427       10.0  \n",
              "2936                            0.427        9.8  \n",
              "2937                            0.434        9.8  \n",
              "\n",
              "[1649 rows x 22 columns]"
            ],
            "text/html": [
              "\n",
              "  <div id=\"df-6ec1d22c-62f5-4b55-9450-ece6ee503456\" class=\"colab-df-container\">\n",
              "    <div>\n",
              "<style scoped>\n",
              "    .dataframe tbody tr th:only-of-type {\n",
              "        vertical-align: middle;\n",
              "    }\n",
              "\n",
              "    .dataframe tbody tr th {\n",
              "        vertical-align: top;\n",
              "    }\n",
              "\n",
              "    .dataframe thead th {\n",
              "        text-align: right;\n",
              "    }\n",
              "</style>\n",
              "<table border=\"1\" class=\"dataframe\">\n",
              "  <thead>\n",
              "    <tr style=\"text-align: right;\">\n",
              "      <th></th>\n",
              "      <th>Country</th>\n",
              "      <th>Year</th>\n",
              "      <th>Status</th>\n",
              "      <th>Life expectancy</th>\n",
              "      <th>Adult Mortality</th>\n",
              "      <th>infant deaths</th>\n",
              "      <th>Alcohol</th>\n",
              "      <th>percentage expenditure</th>\n",
              "      <th>Hepatitis B</th>\n",
              "      <th>Measles</th>\n",
              "      <th>...</th>\n",
              "      <th>Polio</th>\n",
              "      <th>Total expenditure</th>\n",
              "      <th>Diphtheria</th>\n",
              "      <th>HIV/AIDS</th>\n",
              "      <th>GDP</th>\n",
              "      <th>Population</th>\n",
              "      <th>thinness  1-19 years</th>\n",
              "      <th>thinness 5-9 years</th>\n",
              "      <th>Income composition of resources</th>\n",
              "      <th>Schooling</th>\n",
              "    </tr>\n",
              "  </thead>\n",
              "  <tbody>\n",
              "    <tr>\n",
              "      <th>0</th>\n",
              "      <td>Afghanistan</td>\n",
              "      <td>2015</td>\n",
              "      <td>Developing</td>\n",
              "      <td>65.0</td>\n",
              "      <td>263.0</td>\n",
              "      <td>62</td>\n",
              "      <td>0.01</td>\n",
              "      <td>71.279624</td>\n",
              "      <td>65.0</td>\n",
              "      <td>1154</td>\n",
              "      <td>...</td>\n",
              "      <td>6.0</td>\n",
              "      <td>8.16</td>\n",
              "      <td>65.0</td>\n",
              "      <td>0.1</td>\n",
              "      <td>584.259210</td>\n",
              "      <td>33736494.0</td>\n",
              "      <td>17.2</td>\n",
              "      <td>17.3</td>\n",
              "      <td>0.479</td>\n",
              "      <td>10.1</td>\n",
              "    </tr>\n",
              "    <tr>\n",
              "      <th>1</th>\n",
              "      <td>Afghanistan</td>\n",
              "      <td>2014</td>\n",
              "      <td>Developing</td>\n",
              "      <td>59.9</td>\n",
              "      <td>271.0</td>\n",
              "      <td>64</td>\n",
              "      <td>0.01</td>\n",
              "      <td>73.523582</td>\n",
              "      <td>62.0</td>\n",
              "      <td>492</td>\n",
              "      <td>...</td>\n",
              "      <td>58.0</td>\n",
              "      <td>8.18</td>\n",
              "      <td>62.0</td>\n",
              "      <td>0.1</td>\n",
              "      <td>612.696514</td>\n",
              "      <td>327582.0</td>\n",
              "      <td>17.5</td>\n",
              "      <td>17.5</td>\n",
              "      <td>0.476</td>\n",
              "      <td>10.0</td>\n",
              "    </tr>\n",
              "    <tr>\n",
              "      <th>2</th>\n",
              "      <td>Afghanistan</td>\n",
              "      <td>2013</td>\n",
              "      <td>Developing</td>\n",
              "      <td>59.9</td>\n",
              "      <td>268.0</td>\n",
              "      <td>66</td>\n",
              "      <td>0.01</td>\n",
              "      <td>73.219243</td>\n",
              "      <td>64.0</td>\n",
              "      <td>430</td>\n",
              "      <td>...</td>\n",
              "      <td>62.0</td>\n",
              "      <td>8.13</td>\n",
              "      <td>64.0</td>\n",
              "      <td>0.1</td>\n",
              "      <td>631.744976</td>\n",
              "      <td>31731688.0</td>\n",
              "      <td>17.7</td>\n",
              "      <td>17.7</td>\n",
              "      <td>0.470</td>\n",
              "      <td>9.9</td>\n",
              "    </tr>\n",
              "    <tr>\n",
              "      <th>3</th>\n",
              "      <td>Afghanistan</td>\n",
              "      <td>2012</td>\n",
              "      <td>Developing</td>\n",
              "      <td>59.5</td>\n",
              "      <td>272.0</td>\n",
              "      <td>69</td>\n",
              "      <td>0.01</td>\n",
              "      <td>78.184215</td>\n",
              "      <td>67.0</td>\n",
              "      <td>2787</td>\n",
              "      <td>...</td>\n",
              "      <td>67.0</td>\n",
              "      <td>8.52</td>\n",
              "      <td>67.0</td>\n",
              "      <td>0.1</td>\n",
              "      <td>669.959000</td>\n",
              "      <td>3696958.0</td>\n",
              "      <td>17.9</td>\n",
              "      <td>18.0</td>\n",
              "      <td>0.463</td>\n",
              "      <td>9.8</td>\n",
              "    </tr>\n",
              "    <tr>\n",
              "      <th>4</th>\n",
              "      <td>Afghanistan</td>\n",
              "      <td>2011</td>\n",
              "      <td>Developing</td>\n",
              "      <td>59.2</td>\n",
              "      <td>275.0</td>\n",
              "      <td>71</td>\n",
              "      <td>0.01</td>\n",
              "      <td>7.097109</td>\n",
              "      <td>68.0</td>\n",
              "      <td>3013</td>\n",
              "      <td>...</td>\n",
              "      <td>68.0</td>\n",
              "      <td>7.87</td>\n",
              "      <td>68.0</td>\n",
              "      <td>0.1</td>\n",
              "      <td>63.537231</td>\n",
              "      <td>2978599.0</td>\n",
              "      <td>18.2</td>\n",
              "      <td>18.2</td>\n",
              "      <td>0.454</td>\n",
              "      <td>9.5</td>\n",
              "    </tr>\n",
              "    <tr>\n",
              "      <th>...</th>\n",
              "      <td>...</td>\n",
              "      <td>...</td>\n",
              "      <td>...</td>\n",
              "      <td>...</td>\n",
              "      <td>...</td>\n",
              "      <td>...</td>\n",
              "      <td>...</td>\n",
              "      <td>...</td>\n",
              "      <td>...</td>\n",
              "      <td>...</td>\n",
              "      <td>...</td>\n",
              "      <td>...</td>\n",
              "      <td>...</td>\n",
              "      <td>...</td>\n",
              "      <td>...</td>\n",
              "      <td>...</td>\n",
              "      <td>...</td>\n",
              "      <td>...</td>\n",
              "      <td>...</td>\n",
              "      <td>...</td>\n",
              "      <td>...</td>\n",
              "    </tr>\n",
              "    <tr>\n",
              "      <th>2933</th>\n",
              "      <td>Zimbabwe</td>\n",
              "      <td>2004</td>\n",
              "      <td>Developing</td>\n",
              "      <td>44.3</td>\n",
              "      <td>723.0</td>\n",
              "      <td>27</td>\n",
              "      <td>4.36</td>\n",
              "      <td>0.000000</td>\n",
              "      <td>68.0</td>\n",
              "      <td>31</td>\n",
              "      <td>...</td>\n",
              "      <td>67.0</td>\n",
              "      <td>7.13</td>\n",
              "      <td>65.0</td>\n",
              "      <td>33.6</td>\n",
              "      <td>454.366654</td>\n",
              "      <td>12777511.0</td>\n",
              "      <td>9.4</td>\n",
              "      <td>9.4</td>\n",
              "      <td>0.407</td>\n",
              "      <td>9.2</td>\n",
              "    </tr>\n",
              "    <tr>\n",
              "      <th>2934</th>\n",
              "      <td>Zimbabwe</td>\n",
              "      <td>2003</td>\n",
              "      <td>Developing</td>\n",
              "      <td>44.5</td>\n",
              "      <td>715.0</td>\n",
              "      <td>26</td>\n",
              "      <td>4.06</td>\n",
              "      <td>0.000000</td>\n",
              "      <td>7.0</td>\n",
              "      <td>998</td>\n",
              "      <td>...</td>\n",
              "      <td>7.0</td>\n",
              "      <td>6.52</td>\n",
              "      <td>68.0</td>\n",
              "      <td>36.7</td>\n",
              "      <td>453.351155</td>\n",
              "      <td>12633897.0</td>\n",
              "      <td>9.8</td>\n",
              "      <td>9.9</td>\n",
              "      <td>0.418</td>\n",
              "      <td>9.5</td>\n",
              "    </tr>\n",
              "    <tr>\n",
              "      <th>2935</th>\n",
              "      <td>Zimbabwe</td>\n",
              "      <td>2002</td>\n",
              "      <td>Developing</td>\n",
              "      <td>44.8</td>\n",
              "      <td>73.0</td>\n",
              "      <td>25</td>\n",
              "      <td>4.43</td>\n",
              "      <td>0.000000</td>\n",
              "      <td>73.0</td>\n",
              "      <td>304</td>\n",
              "      <td>...</td>\n",
              "      <td>73.0</td>\n",
              "      <td>6.53</td>\n",
              "      <td>71.0</td>\n",
              "      <td>39.8</td>\n",
              "      <td>57.348340</td>\n",
              "      <td>125525.0</td>\n",
              "      <td>1.2</td>\n",
              "      <td>1.3</td>\n",
              "      <td>0.427</td>\n",
              "      <td>10.0</td>\n",
              "    </tr>\n",
              "    <tr>\n",
              "      <th>2936</th>\n",
              "      <td>Zimbabwe</td>\n",
              "      <td>2001</td>\n",
              "      <td>Developing</td>\n",
              "      <td>45.3</td>\n",
              "      <td>686.0</td>\n",
              "      <td>25</td>\n",
              "      <td>1.72</td>\n",
              "      <td>0.000000</td>\n",
              "      <td>76.0</td>\n",
              "      <td>529</td>\n",
              "      <td>...</td>\n",
              "      <td>76.0</td>\n",
              "      <td>6.16</td>\n",
              "      <td>75.0</td>\n",
              "      <td>42.1</td>\n",
              "      <td>548.587312</td>\n",
              "      <td>12366165.0</td>\n",
              "      <td>1.6</td>\n",
              "      <td>1.7</td>\n",
              "      <td>0.427</td>\n",
              "      <td>9.8</td>\n",
              "    </tr>\n",
              "    <tr>\n",
              "      <th>2937</th>\n",
              "      <td>Zimbabwe</td>\n",
              "      <td>2000</td>\n",
              "      <td>Developing</td>\n",
              "      <td>46.0</td>\n",
              "      <td>665.0</td>\n",
              "      <td>24</td>\n",
              "      <td>1.68</td>\n",
              "      <td>0.000000</td>\n",
              "      <td>79.0</td>\n",
              "      <td>1483</td>\n",
              "      <td>...</td>\n",
              "      <td>78.0</td>\n",
              "      <td>7.10</td>\n",
              "      <td>78.0</td>\n",
              "      <td>43.5</td>\n",
              "      <td>547.358878</td>\n",
              "      <td>12222251.0</td>\n",
              "      <td>11.0</td>\n",
              "      <td>11.2</td>\n",
              "      <td>0.434</td>\n",
              "      <td>9.8</td>\n",
              "    </tr>\n",
              "  </tbody>\n",
              "</table>\n",
              "<p>1649 rows × 22 columns</p>\n",
              "</div>\n",
              "    <div class=\"colab-df-buttons\">\n",
              "\n",
              "  <div class=\"colab-df-container\">\n",
              "    <button class=\"colab-df-convert\" onclick=\"convertToInteractive('df-6ec1d22c-62f5-4b55-9450-ece6ee503456')\"\n",
              "            title=\"Convert this dataframe to an interactive table.\"\n",
              "            style=\"display:none;\">\n",
              "\n",
              "  <svg xmlns=\"http://www.w3.org/2000/svg\" height=\"24px\" viewBox=\"0 -960 960 960\">\n",
              "    <path d=\"M120-120v-720h720v720H120Zm60-500h600v-160H180v160Zm220 220h160v-160H400v160Zm0 220h160v-160H400v160ZM180-400h160v-160H180v160Zm440 0h160v-160H620v160ZM180-180h160v-160H180v160Zm440 0h160v-160H620v160Z\"/>\n",
              "  </svg>\n",
              "    </button>\n",
              "\n",
              "  <style>\n",
              "    .colab-df-container {\n",
              "      display:flex;\n",
              "      gap: 12px;\n",
              "    }\n",
              "\n",
              "    .colab-df-convert {\n",
              "      background-color: #E8F0FE;\n",
              "      border: none;\n",
              "      border-radius: 50%;\n",
              "      cursor: pointer;\n",
              "      display: none;\n",
              "      fill: #1967D2;\n",
              "      height: 32px;\n",
              "      padding: 0 0 0 0;\n",
              "      width: 32px;\n",
              "    }\n",
              "\n",
              "    .colab-df-convert:hover {\n",
              "      background-color: #E2EBFA;\n",
              "      box-shadow: 0px 1px 2px rgba(60, 64, 67, 0.3), 0px 1px 3px 1px rgba(60, 64, 67, 0.15);\n",
              "      fill: #174EA6;\n",
              "    }\n",
              "\n",
              "    .colab-df-buttons div {\n",
              "      margin-bottom: 4px;\n",
              "    }\n",
              "\n",
              "    [theme=dark] .colab-df-convert {\n",
              "      background-color: #3B4455;\n",
              "      fill: #D2E3FC;\n",
              "    }\n",
              "\n",
              "    [theme=dark] .colab-df-convert:hover {\n",
              "      background-color: #434B5C;\n",
              "      box-shadow: 0px 1px 3px 1px rgba(0, 0, 0, 0.15);\n",
              "      filter: drop-shadow(0px 1px 2px rgba(0, 0, 0, 0.3));\n",
              "      fill: #FFFFFF;\n",
              "    }\n",
              "  </style>\n",
              "\n",
              "    <script>\n",
              "      const buttonEl =\n",
              "        document.querySelector('#df-6ec1d22c-62f5-4b55-9450-ece6ee503456 button.colab-df-convert');\n",
              "      buttonEl.style.display =\n",
              "        google.colab.kernel.accessAllowed ? 'block' : 'none';\n",
              "\n",
              "      async function convertToInteractive(key) {\n",
              "        const element = document.querySelector('#df-6ec1d22c-62f5-4b55-9450-ece6ee503456');\n",
              "        const dataTable =\n",
              "          await google.colab.kernel.invokeFunction('convertToInteractive',\n",
              "                                                    [key], {});\n",
              "        if (!dataTable) return;\n",
              "\n",
              "        const docLinkHtml = 'Like what you see? Visit the ' +\n",
              "          '<a target=\"_blank\" href=https://colab.research.google.com/notebooks/data_table.ipynb>data table notebook</a>'\n",
              "          + ' to learn more about interactive tables.';\n",
              "        element.innerHTML = '';\n",
              "        dataTable['output_type'] = 'display_data';\n",
              "        await google.colab.output.renderOutput(dataTable, element);\n",
              "        const docLink = document.createElement('div');\n",
              "        docLink.innerHTML = docLinkHtml;\n",
              "        element.appendChild(docLink);\n",
              "      }\n",
              "    </script>\n",
              "  </div>\n",
              "\n",
              "\n",
              "<div id=\"df-ca232907-be23-4e8d-b095-91e2524e5515\">\n",
              "  <button class=\"colab-df-quickchart\" onclick=\"quickchart('df-ca232907-be23-4e8d-b095-91e2524e5515')\"\n",
              "            title=\"Suggest charts\"\n",
              "            style=\"display:none;\">\n",
              "\n",
              "<svg xmlns=\"http://www.w3.org/2000/svg\" height=\"24px\"viewBox=\"0 0 24 24\"\n",
              "     width=\"24px\">\n",
              "    <g>\n",
              "        <path d=\"M19 3H5c-1.1 0-2 .9-2 2v14c0 1.1.9 2 2 2h14c1.1 0 2-.9 2-2V5c0-1.1-.9-2-2-2zM9 17H7v-7h2v7zm4 0h-2V7h2v10zm4 0h-2v-4h2v4z\"/>\n",
              "    </g>\n",
              "</svg>\n",
              "  </button>\n",
              "\n",
              "<style>\n",
              "  .colab-df-quickchart {\n",
              "      --bg-color: #E8F0FE;\n",
              "      --fill-color: #1967D2;\n",
              "      --hover-bg-color: #E2EBFA;\n",
              "      --hover-fill-color: #174EA6;\n",
              "      --disabled-fill-color: #AAA;\n",
              "      --disabled-bg-color: #DDD;\n",
              "  }\n",
              "\n",
              "  [theme=dark] .colab-df-quickchart {\n",
              "      --bg-color: #3B4455;\n",
              "      --fill-color: #D2E3FC;\n",
              "      --hover-bg-color: #434B5C;\n",
              "      --hover-fill-color: #FFFFFF;\n",
              "      --disabled-bg-color: #3B4455;\n",
              "      --disabled-fill-color: #666;\n",
              "  }\n",
              "\n",
              "  .colab-df-quickchart {\n",
              "    background-color: var(--bg-color);\n",
              "    border: none;\n",
              "    border-radius: 50%;\n",
              "    cursor: pointer;\n",
              "    display: none;\n",
              "    fill: var(--fill-color);\n",
              "    height: 32px;\n",
              "    padding: 0;\n",
              "    width: 32px;\n",
              "  }\n",
              "\n",
              "  .colab-df-quickchart:hover {\n",
              "    background-color: var(--hover-bg-color);\n",
              "    box-shadow: 0 1px 2px rgba(60, 64, 67, 0.3), 0 1px 3px 1px rgba(60, 64, 67, 0.15);\n",
              "    fill: var(--button-hover-fill-color);\n",
              "  }\n",
              "\n",
              "  .colab-df-quickchart-complete:disabled,\n",
              "  .colab-df-quickchart-complete:disabled:hover {\n",
              "    background-color: var(--disabled-bg-color);\n",
              "    fill: var(--disabled-fill-color);\n",
              "    box-shadow: none;\n",
              "  }\n",
              "\n",
              "  .colab-df-spinner {\n",
              "    border: 2px solid var(--fill-color);\n",
              "    border-color: transparent;\n",
              "    border-bottom-color: var(--fill-color);\n",
              "    animation:\n",
              "      spin 1s steps(1) infinite;\n",
              "  }\n",
              "\n",
              "  @keyframes spin {\n",
              "    0% {\n",
              "      border-color: transparent;\n",
              "      border-bottom-color: var(--fill-color);\n",
              "      border-left-color: var(--fill-color);\n",
              "    }\n",
              "    20% {\n",
              "      border-color: transparent;\n",
              "      border-left-color: var(--fill-color);\n",
              "      border-top-color: var(--fill-color);\n",
              "    }\n",
              "    30% {\n",
              "      border-color: transparent;\n",
              "      border-left-color: var(--fill-color);\n",
              "      border-top-color: var(--fill-color);\n",
              "      border-right-color: var(--fill-color);\n",
              "    }\n",
              "    40% {\n",
              "      border-color: transparent;\n",
              "      border-right-color: var(--fill-color);\n",
              "      border-top-color: var(--fill-color);\n",
              "    }\n",
              "    60% {\n",
              "      border-color: transparent;\n",
              "      border-right-color: var(--fill-color);\n",
              "    }\n",
              "    80% {\n",
              "      border-color: transparent;\n",
              "      border-right-color: var(--fill-color);\n",
              "      border-bottom-color: var(--fill-color);\n",
              "    }\n",
              "    90% {\n",
              "      border-color: transparent;\n",
              "      border-bottom-color: var(--fill-color);\n",
              "    }\n",
              "  }\n",
              "</style>\n",
              "\n",
              "  <script>\n",
              "    async function quickchart(key) {\n",
              "      const quickchartButtonEl =\n",
              "        document.querySelector('#' + key + ' button');\n",
              "      quickchartButtonEl.disabled = true;  // To prevent multiple clicks.\n",
              "      quickchartButtonEl.classList.add('colab-df-spinner');\n",
              "      try {\n",
              "        const charts = await google.colab.kernel.invokeFunction(\n",
              "            'suggestCharts', [key], {});\n",
              "      } catch (error) {\n",
              "        console.error('Error during call to suggestCharts:', error);\n",
              "      }\n",
              "      quickchartButtonEl.classList.remove('colab-df-spinner');\n",
              "      quickchartButtonEl.classList.add('colab-df-quickchart-complete');\n",
              "    }\n",
              "    (() => {\n",
              "      let quickchartButtonEl =\n",
              "        document.querySelector('#df-ca232907-be23-4e8d-b095-91e2524e5515 button');\n",
              "      quickchartButtonEl.style.display =\n",
              "        google.colab.kernel.accessAllowed ? 'block' : 'none';\n",
              "    })();\n",
              "  </script>\n",
              "</div>\n",
              "\n",
              "  <div id=\"id_e8e39b77-3a32-469e-b59c-b3418d7a8e54\">\n",
              "    <style>\n",
              "      .colab-df-generate {\n",
              "        background-color: #E8F0FE;\n",
              "        border: none;\n",
              "        border-radius: 50%;\n",
              "        cursor: pointer;\n",
              "        display: none;\n",
              "        fill: #1967D2;\n",
              "        height: 32px;\n",
              "        padding: 0 0 0 0;\n",
              "        width: 32px;\n",
              "      }\n",
              "\n",
              "      .colab-df-generate:hover {\n",
              "        background-color: #E2EBFA;\n",
              "        box-shadow: 0px 1px 2px rgba(60, 64, 67, 0.3), 0px 1px 3px 1px rgba(60, 64, 67, 0.15);\n",
              "        fill: #174EA6;\n",
              "      }\n",
              "\n",
              "      [theme=dark] .colab-df-generate {\n",
              "        background-color: #3B4455;\n",
              "        fill: #D2E3FC;\n",
              "      }\n",
              "\n",
              "      [theme=dark] .colab-df-generate:hover {\n",
              "        background-color: #434B5C;\n",
              "        box-shadow: 0px 1px 3px 1px rgba(0, 0, 0, 0.15);\n",
              "        filter: drop-shadow(0px 1px 2px rgba(0, 0, 0, 0.3));\n",
              "        fill: #FFFFFF;\n",
              "      }\n",
              "    </style>\n",
              "    <button class=\"colab-df-generate\" onclick=\"generateWithVariable('df2')\"\n",
              "            title=\"Generate code using this dataframe.\"\n",
              "            style=\"display:none;\">\n",
              "\n",
              "  <svg xmlns=\"http://www.w3.org/2000/svg\" height=\"24px\"viewBox=\"0 0 24 24\"\n",
              "       width=\"24px\">\n",
              "    <path d=\"M7,19H8.4L18.45,9,17,7.55,7,17.6ZM5,21V16.75L18.45,3.32a2,2,0,0,1,2.83,0l1.4,1.43a1.91,1.91,0,0,1,.58,1.4,1.91,1.91,0,0,1-.58,1.4L9.25,21ZM18.45,9,17,7.55Zm-12,3A5.31,5.31,0,0,0,4.9,8.1,5.31,5.31,0,0,0,1,6.5,5.31,5.31,0,0,0,4.9,4.9,5.31,5.31,0,0,0,6.5,1,5.31,5.31,0,0,0,8.1,4.9,5.31,5.31,0,0,0,12,6.5,5.46,5.46,0,0,0,6.5,12Z\"/>\n",
              "  </svg>\n",
              "    </button>\n",
              "    <script>\n",
              "      (() => {\n",
              "      const buttonEl =\n",
              "        document.querySelector('#id_e8e39b77-3a32-469e-b59c-b3418d7a8e54 button.colab-df-generate');\n",
              "      buttonEl.style.display =\n",
              "        google.colab.kernel.accessAllowed ? 'block' : 'none';\n",
              "\n",
              "      buttonEl.onclick = () => {\n",
              "        google.colab.notebook.generateWithVariable('df2');\n",
              "      }\n",
              "      })();\n",
              "    </script>\n",
              "  </div>\n",
              "\n",
              "    </div>\n",
              "  </div>\n"
            ],
            "application/vnd.google.colaboratory.intrinsic+json": {
              "type": "dataframe",
              "variable_name": "df2"
            }
          },
          "metadata": {},
          "execution_count": 54
        }
      ]
    },
    {
      "cell_type": "markdown",
      "source": [
        "#### 2. Imputation"
      ],
      "metadata": {
        "id": "VU424isEI-M0"
      }
    },
    {
      "cell_type": "markdown",
      "source": [
        "##### 2.1. Mean/Median/Mode Imputation"
      ],
      "metadata": {
        "id": "F66RfRupJJzg"
      }
    },
    {
      "cell_type": "code",
      "source": [
        "df3 = df.copy()"
      ],
      "metadata": {
        "id": "xtwEkVntNbtg"
      },
      "execution_count": 55,
      "outputs": []
    },
    {
      "cell_type": "code",
      "source": [
        "# Categorized types of data columns:\n",
        "\n",
        "# Identify numeric columns and non-numeric columns\n",
        "numerical_features = df.select_dtypes(include=['number']).columns.tolist()\n",
        "non_numerical_features = df.select_dtypes(exclude=['number']).columns.tolist()\n",
        "\n",
        "# Here I treat categorical features as features that only have <= 10 different values\n",
        "unique_threshold = 10\n",
        "continuous_features = [col for col in numerical_features if df[col].nunique() > unique_threshold]\n",
        "ordinal_features = [col for col in numerical_features if col != 'output' and df[col].nunique() <= unique_threshold]\n"
      ],
      "metadata": {
        "id": "WmabNs8DKYAo"
      },
      "execution_count": 94,
      "outputs": []
    },
    {
      "cell_type": "code",
      "source": [
        "non_numerical_features # categorical features"
      ],
      "metadata": {
        "colab": {
          "base_uri": "https://localhost:8080/"
        },
        "id": "cxygFlFMMR1t",
        "outputId": "cd3bd8e5-85c6-4960-c308-fe5c4306bcec"
      },
      "execution_count": 57,
      "outputs": [
        {
          "output_type": "execute_result",
          "data": {
            "text/plain": [
              "['Country', 'Status']"
            ]
          },
          "metadata": {},
          "execution_count": 57
        }
      ]
    },
    {
      "cell_type": "code",
      "source": [
        "continuous_features"
      ],
      "metadata": {
        "colab": {
          "base_uri": "https://localhost:8080/"
        },
        "id": "NoNJ1_MWMHpT",
        "outputId": "b27a15fb-069e-4a39-8f5b-df9ab1fc6648"
      },
      "execution_count": 58,
      "outputs": [
        {
          "output_type": "execute_result",
          "data": {
            "text/plain": [
              "['Year',\n",
              " 'Life expectancy ',\n",
              " 'Adult Mortality',\n",
              " 'infant deaths',\n",
              " 'Alcohol',\n",
              " 'percentage expenditure',\n",
              " 'Hepatitis B',\n",
              " 'Measles ',\n",
              " ' BMI ',\n",
              " 'under-five deaths ',\n",
              " 'Polio',\n",
              " 'Total expenditure',\n",
              " 'Diphtheria ',\n",
              " ' HIV/AIDS',\n",
              " 'GDP',\n",
              " 'Population',\n",
              " ' thinness  1-19 years',\n",
              " ' thinness 5-9 years',\n",
              " 'Income composition of resources',\n",
              " 'Schooling']"
            ]
          },
          "metadata": {},
          "execution_count": 58
        }
      ]
    },
    {
      "cell_type": "code",
      "source": [
        "ordinal_features"
      ],
      "metadata": {
        "colab": {
          "base_uri": "https://localhost:8080/"
        },
        "id": "-Zr29-WhMKTN",
        "outputId": "dde0f587-deb4-4ff3-c0d7-d7f71d364e30"
      },
      "execution_count": 59,
      "outputs": [
        {
          "output_type": "execute_result",
          "data": {
            "text/plain": [
              "[]"
            ]
          },
          "metadata": {},
          "execution_count": 59
        }
      ]
    },
    {
      "cell_type": "code",
      "source": [
        "# Fill with Mean (continuous data)\n",
        "continuous_df = df[continuous_features]\n",
        "continuous_df = continuous_df.fillna(continuous_df.mean())\n",
        "df3[continuous_features] = continuous_df\n",
        "\n",
        "# Fill with Median (ordinal data)\n",
        "# There is no ordinal data columns\n",
        "\n",
        "# Fill with Mode (categorical data)\n",
        "categorical_df = df[non_numerical_features]\n",
        "categorical_df = categorical_df.fillna(categorical_df.mode())\n",
        "df3[non_numerical_features] = categorical_df"
      ],
      "metadata": {
        "id": "rfkuI36zIgCo"
      },
      "execution_count": 60,
      "outputs": []
    },
    {
      "cell_type": "code",
      "source": [
        "df3.isna().sum() #check the columns after imputation"
      ],
      "metadata": {
        "colab": {
          "base_uri": "https://localhost:8080/"
        },
        "id": "R2mL6U3IOnPD",
        "outputId": "4bbe1b21-0ad9-4ef3-bc5a-5946ad98add8"
      },
      "execution_count": 61,
      "outputs": [
        {
          "output_type": "execute_result",
          "data": {
            "text/plain": [
              "Country                            0\n",
              "Year                               0\n",
              "Status                             0\n",
              "Life expectancy                    0\n",
              "Adult Mortality                    0\n",
              "infant deaths                      0\n",
              "Alcohol                            0\n",
              "percentage expenditure             0\n",
              "Hepatitis B                        0\n",
              "Measles                            0\n",
              " BMI                               0\n",
              "under-five deaths                  0\n",
              "Polio                              0\n",
              "Total expenditure                  0\n",
              "Diphtheria                         0\n",
              " HIV/AIDS                          0\n",
              "GDP                                0\n",
              "Population                         0\n",
              " thinness  1-19 years              0\n",
              " thinness 5-9 years                0\n",
              "Income composition of resources    0\n",
              "Schooling                          0\n",
              "dtype: int64"
            ]
          },
          "metadata": {},
          "execution_count": 61
        }
      ]
    },
    {
      "cell_type": "markdown",
      "source": [
        "##### 2.2. Constant Value Imputation\n",
        "This method is useful when you can make an educated guess about the missing values."
      ],
      "metadata": {
        "id": "7tarVudCJNvG"
      }
    },
    {
      "cell_type": "code",
      "source": [
        "df4 = df.copy()"
      ],
      "metadata": {
        "id": "J9_w1sPEJTbf"
      },
      "execution_count": 62,
      "outputs": []
    },
    {
      "cell_type": "code",
      "source": [
        "# Here I implemented constant value impputation for only 4 columns\n",
        "df4['Life expectancy '].fillna(70, inplace=True)\n",
        "df4['Adult Mortality'].fillna(100, inplace=True)\n",
        "df4['infant deaths'].fillna(0, inplace=True)\n",
        "df4['Alcohol'].fillna(0, inplace=True)"
      ],
      "metadata": {
        "id": "g8DMt9e6PHad"
      },
      "execution_count": 63,
      "outputs": []
    },
    {
      "cell_type": "code",
      "source": [
        "df4.isna().sum() #check the filled columns after imputation"
      ],
      "metadata": {
        "colab": {
          "base_uri": "https://localhost:8080/"
        },
        "id": "hXy-miXHP1gc",
        "outputId": "74b1f8ce-556c-48bc-9065-74732a37cb6f"
      },
      "execution_count": 64,
      "outputs": [
        {
          "output_type": "execute_result",
          "data": {
            "text/plain": [
              "Country                              0\n",
              "Year                                 0\n",
              "Status                               0\n",
              "Life expectancy                      0\n",
              "Adult Mortality                      0\n",
              "infant deaths                        0\n",
              "Alcohol                              0\n",
              "percentage expenditure               0\n",
              "Hepatitis B                        553\n",
              "Measles                              0\n",
              " BMI                                34\n",
              "under-five deaths                    0\n",
              "Polio                               19\n",
              "Total expenditure                  226\n",
              "Diphtheria                          19\n",
              " HIV/AIDS                            0\n",
              "GDP                                448\n",
              "Population                         652\n",
              " thinness  1-19 years               34\n",
              " thinness 5-9 years                 34\n",
              "Income composition of resources    167\n",
              "Schooling                          163\n",
              "dtype: int64"
            ]
          },
          "metadata": {},
          "execution_count": 64
        }
      ]
    },
    {
      "cell_type": "markdown",
      "source": [
        "##### 2.3. Predictive Imputation"
      ],
      "metadata": {
        "id": "GBNfBem8JR9p"
      }
    },
    {
      "cell_type": "code",
      "source": [
        "# Predictive imputation using linear regression\n",
        "from sklearn.linear_model import LinearRegression\n",
        "\n",
        "# I will apply this method for column Life Expectancy"
      ],
      "metadata": {
        "id": "D_1AVpVtJjV7"
      },
      "execution_count": 114,
      "outputs": []
    },
    {
      "cell_type": "code",
      "source": [
        "df5 = df.copy()"
      ],
      "metadata": {
        "id": "5_52vPVBQUPG"
      },
      "execution_count": 130,
      "outputs": []
    },
    {
      "cell_type": "code",
      "source": [
        "df5['Life expectancy '].isna().sum()"
      ],
      "metadata": {
        "colab": {
          "base_uri": "https://localhost:8080/"
        },
        "id": "e230yDBaWgrD",
        "outputId": "998463d5-36b0-44dd-cf51-671f2cbb4da4"
      },
      "execution_count": 131,
      "outputs": [
        {
          "output_type": "execute_result",
          "data": {
            "text/plain": [
              "10"
            ]
          },
          "metadata": {},
          "execution_count": 131
        }
      ]
    },
    {
      "cell_type": "code",
      "source": [
        "\n",
        "# Fill rows with NaN values in numeric columns other than 'Life expectancy '\n",
        "df5[numerical_features] = df5[numerical_features].fillna(df5[numerical_features].mean())\n",
        "\n",
        "# Split data into sets with missing values and without\n",
        "missing = df5[df5['Life expectancy '].isnull()]\n",
        "not_missing = df5[df5['Life expectancy '].notnull()]\n",
        "\n",
        "# Initialize the model\n",
        "model = LinearRegression()\n",
        "\n",
        "x = not_missing[numerical_features].drop('Life expectancy ', axis=1)\n",
        "\n",
        "y = not_missing['Life expectancy ']\n",
        "\n",
        "# Train the model\n",
        "model.fit(x, y)\n",
        "\n",
        "# Predict missing values\n",
        "if missing.shape[0] > 0:\n",
        "    predicted = model.predict(missing[numerical_features].drop('Life expectancy ', axis=1))\n",
        "\n",
        "    # Print predicted values:\n",
        "    # predicted_df = pd.DataFrame({'Predicted Life Expectancy': predicted})\n",
        "    # print(predicted_df.head())\n",
        "\n",
        "    # Fill in missing values in the original DataFrame df5\n",
        "    df5.loc[df5['Life expectancy '].isnull(), 'Life expectancy '] = predicted\n",
        "\n"
      ],
      "metadata": {
        "id": "InDGmz2qQROL"
      },
      "execution_count": 133,
      "outputs": []
    },
    {
      "cell_type": "code",
      "source": [
        "df5['Life expectancy '].isna().sum()"
      ],
      "metadata": {
        "colab": {
          "base_uri": "https://localhost:8080/"
        },
        "id": "IksaL-etZR3u",
        "outputId": "3cee6c43-0bfd-460b-a18b-b8b3a6d45530"
      },
      "execution_count": 134,
      "outputs": [
        {
          "output_type": "execute_result",
          "data": {
            "text/plain": [
              "0"
            ]
          },
          "metadata": {},
          "execution_count": 134
        }
      ]
    },
    {
      "cell_type": "markdown",
      "source": [
        "#### 3. Using Pandas"
      ],
      "metadata": {
        "id": "7RTrNNsYJn_l"
      }
    },
    {
      "cell_type": "code",
      "source": [
        "df6 = df.copy()\n",
        "df6.fillna(method='ffill', inplace = True)"
      ],
      "metadata": {
        "id": "ieOAoeLAJyLh"
      },
      "execution_count": 137,
      "outputs": []
    },
    {
      "cell_type": "code",
      "source": [
        "df6.isna().sum()"
      ],
      "metadata": {
        "colab": {
          "base_uri": "https://localhost:8080/"
        },
        "id": "ezN_FBKGcFZi",
        "outputId": "52d3a245-3b29-48d3-c175-0b4a7fb4e8a5"
      },
      "execution_count": 138,
      "outputs": [
        {
          "output_type": "execute_result",
          "data": {
            "text/plain": [
              "Country                            0\n",
              "Year                               0\n",
              "Status                             0\n",
              "Life expectancy                    0\n",
              "Adult Mortality                    0\n",
              "infant deaths                      0\n",
              "Alcohol                            0\n",
              "percentage expenditure             0\n",
              "Hepatitis B                        0\n",
              "Measles                            0\n",
              " BMI                               0\n",
              "under-five deaths                  0\n",
              "Polio                              0\n",
              "Total expenditure                  0\n",
              "Diphtheria                         0\n",
              " HIV/AIDS                          0\n",
              "GDP                                0\n",
              "Population                         0\n",
              " thinness  1-19 years              0\n",
              " thinness 5-9 years                0\n",
              "Income composition of resources    0\n",
              "Schooling                          0\n",
              "dtype: int64"
            ]
          },
          "metadata": {},
          "execution_count": 138
        }
      ]
    },
    {
      "cell_type": "markdown",
      "source": [
        "### B. Handle outlier\n",
        "I will use df6 to handle outlier"
      ],
      "metadata": {
        "id": "2KGSyp4fJ5Ua"
      }
    },
    {
      "cell_type": "markdown",
      "source": [
        "#### 1. Transformation"
      ],
      "metadata": {
        "id": "s7oyzSVxckL3"
      }
    },
    {
      "cell_type": "code",
      "source": [
        "df6['GDP'].hist()"
      ],
      "metadata": {
        "colab": {
          "base_uri": "https://localhost:8080/",
          "height": 447
        },
        "id": "jzhoWixrcLys",
        "outputId": "f5895f48-e87b-4fdb-ba69-96d477763590"
      },
      "execution_count": 202,
      "outputs": [
        {
          "output_type": "execute_result",
          "data": {
            "text/plain": [
              "<Axes: >"
            ]
          },
          "metadata": {},
          "execution_count": 202
        },
        {
          "output_type": "display_data",
          "data": {
            "text/plain": [
              "<Figure size 640x480 with 1 Axes>"
            ],
            "image/png": "[encoded data removed]"
          },
          "metadata": {}
        }
      ]
    },
    {
      "cell_type": "markdown",
      "source": [
        "Conclude:  GDP is positive skewed => use logarith transformation"
      ],
      "metadata": {
        "id": "ZLEVXQtXdg7j"
      }
    },
    {
      "cell_type": "code",
      "source": [
        "m = np.array(df6['GDP']) # change to array to calculate exp\n",
        "m"
      ],
      "metadata": {
        "colab": {
          "base_uri": "https://localhost:8080/"
        },
        "id": "q-_aw885fuRr",
        "outputId": "3d6c8e13-9e13-4abf-920d-bbfe9e4b8f64"
      },
      "execution_count": 203,
      "outputs": [
        {
          "output_type": "execute_result",
          "data": {
            "text/plain": [
              "array([584.25921  , 612.696514 , 631.744976 , ...,  57.34834  ,\n",
              "       548.587312 , 547.3588785])"
            ]
          },
          "metadata": {},
          "execution_count": 203
        }
      ]
    },
    {
      "cell_type": "code",
      "source": [
        "# change to logarith (dùng hàm log)"
      ],
      "metadata": {
        "id": "3P95HQXFf10O"
      },
      "execution_count": 184,
      "outputs": []
    },
    {
      "cell_type": "code",
      "source": [
        "log_m = np.log(m)\n",
        "log_m"
      ],
      "metadata": {
        "colab": {
          "base_uri": "https://localhost:8080/"
        },
        "id": "YKOmGQTMf71E",
        "outputId": "d3bda250-3898-4dac-b107-ad1e6d595764"
      },
      "execution_count": 204,
      "outputs": [
        {
          "output_type": "execute_result",
          "data": {
            "text/plain": [
              "array([6.37034474, 6.41786973, 6.44848579, ..., 4.0491439 , 6.30734645,\n",
              "       6.30510467])"
            ]
          },
          "metadata": {},
          "execution_count": 204
        }
      ]
    },
    {
      "cell_type": "code",
      "source": [
        "import matplotlib.pyplot as plt"
      ],
      "metadata": {
        "id": "_fr89QYxeUBb"
      },
      "execution_count": 192,
      "outputs": []
    },
    {
      "cell_type": "code",
      "source": [
        "plt.hist(log_m)"
      ],
      "metadata": {
        "colab": {
          "base_uri": "https://localhost:8080/",
          "height": 517
        },
        "id": "t4qppGo6exmH",
        "outputId": "9b78e92a-9122-4fb6-cb99-5d8323840846"
      },
      "execution_count": 205,
      "outputs": [
        {
          "output_type": "execute_result",
          "data": {
            "text/plain": [
              "(array([  3.,  14., 104., 170., 431., 569., 679., 437., 398., 133.]),\n",
              " array([ 0.51959704,  1.63647027,  2.7533435 ,  3.87021673,  4.98708996,\n",
              "         6.10396319,  7.22083642,  8.33770964,  9.45458287, 10.5714561 ,\n",
              "        11.68832933]),\n",
              " <BarContainer object of 10 artists>)"
            ]
          },
          "metadata": {},
          "execution_count": 205
        },
        {
          "output_type": "display_data",
          "data": {
            "text/plain": [
              "<Figure size 640x480 with 1 Axes>"
            ],
            "image/png": "[encoded data removed]"
          },
          "metadata": {}
        }
      ]
    }
  ]
}